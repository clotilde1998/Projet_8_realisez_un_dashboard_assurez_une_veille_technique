{
 "cells": [
  {
   "cell_type": "code",
   "execution_count": 1,
   "id": "728deff0-7652-4f96-8b33-1d449b318833",
   "metadata": {},
   "outputs": [
    {
     "name": "stdout",
     "output_type": "stream",
     "text": [
      "Le fichier CSV a bien été créé.\n"
     ]
    }
   ],
   "source": [
    "import pandas as pd\n",
    "\n",
    "# Remplace 'ton_fichier.xlsx' par le chemin de ton fichier Excel\n",
    "fichier_excel = 'df_classification_train.csv'\n",
    "\n",
    "# Lire le fichier Excel\n",
    "df = pd.read_csv(fichier_excel)\n",
    "\n",
    "# Sélectionner les 50 premières lignes\n",
    "df_50 = df.head(50)\n",
    "\n",
    "# Sauvegarder dans un fichier CSV\n",
    "df_50.to_csv('data_train.csv', index=False)\n",
    "\n",
    "print(\"Le fichier CSV a bien été créé.\")\n"
   ]
  },
  {
   "cell_type": "code",
   "execution_count": null,
   "id": "a5d3f208-10ad-4208-a0cf-757f4d2cfd0a",
   "metadata": {},
   "outputs": [],
   "source": []
  }
 ],
 "metadata": {
  "kernelspec": {
   "display_name": "Python 3 (ipykernel)",
   "language": "python",
   "name": "python3"
  },
  "language_info": {
   "codemirror_mode": {
    "name": "ipython",
    "version": 3
   },
   "file_extension": ".py",
   "mimetype": "text/x-python",
   "name": "python",
   "nbconvert_exporter": "python",
   "pygments_lexer": "ipython3",
   "version": "3.12.4"
  }
 },
 "nbformat": 4,
 "nbformat_minor": 5
}
